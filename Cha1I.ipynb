{
 "cells": [
  {
   "cell_type": "code",
   "execution_count": 5,
   "metadata": {},
   "outputs": [
    {
     "name": "stdout",
     "output_type": "stream",
     "text": [
      "CCCCAAA CCAAAAA\n"
     ]
    }
   ],
   "source": [
    "from itertools import product\n",
    "\n",
    "def hamming_distance(s1, s2):\n",
    "    # Calculate the Hamming distance between two strings of equal length\n",
    "    return sum(ch1 != ch2 for ch1, ch2 in zip(s1, s2))\n",
    "\n",
    "def frequent_words_with_mismatches(Text, k, d):\n",
    "    kmer_freq = {}  # Dictionary to store k-mers and their frequencies\n",
    "\n",
    "    # Generate all possible k-mers\n",
    "    kmer_candidates = [''.join(p) for p in product('ACGT', repeat=k)]\n",
    "\n",
    "    for i in range(len(Text) - k + 1):\n",
    "        kmer = Text[i:i + k]\n",
    "\n",
    "        for candidate in kmer_candidates:\n",
    "            if hamming_distance(kmer, candidate) <= d:\n",
    "                kmer_freq[candidate] = kmer_freq.get(candidate, 0) + 1\n",
    "\n",
    "    max_freq = max(kmer_freq.values())\n",
    "    frequent_kmers = [kmer for kmer, freq in kmer_freq.items() if freq == max_freq]\n",
    "\n",
    "    return frequent_kmers\n",
    "\n",
    "# Example usage:\n",
    "with open(r\"E:\\Download_main\\Downloads\\rosalind_ba1i.txt\") as file:\n",
    "    Text = file.readline().strip()\n",
    "    k = file.readline().strip()\n",
    "    k = int(k)\n",
    "    d = file.readline().strip()\n",
    "    d = int(d)\n",
    "# Text = \"ACGTTGCATGTCGCATGATGCATGAGAGCT\"\n",
    "# k = 4\n",
    "# d = 1\n",
    "result = frequent_words_with_mismatches(Text, k, d)\n",
    "print(\" \".join(result))  # Output: GATG ATGC ATGT\n"
   ]
  }
 ],
 "metadata": {
  "kernelspec": {
   "display_name": "Python 3",
   "language": "python",
   "name": "python3"
  },
  "language_info": {
   "codemirror_mode": {
    "name": "ipython",
    "version": 3
   },
   "file_extension": ".py",
   "mimetype": "text/x-python",
   "name": "python",
   "nbconvert_exporter": "python",
   "pygments_lexer": "ipython3",
   "version": "3.10.0"
  },
  "orig_nbformat": 4
 },
 "nbformat": 4,
 "nbformat_minor": 2
}
