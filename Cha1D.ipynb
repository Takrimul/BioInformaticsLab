{
 "cells": [
  {
   "cell_type": "markdown",
   "metadata": {},
   "source": [
    "Chapter 1 problem statement : Find All Occurrences of a Pattern in a String"
   ]
  },
  {
   "cell_type": "code",
   "execution_count": 1,
   "metadata": {},
   "outputs": [],
   "source": [
    "def patternPosition(pattern, genome):\n",
    "    positions = []\n",
    "    for i in range(len(genome) - len(pattern) + 1):\n",
    "        if genome[i:i+len(pattern)] == pattern:\n",
    "            positions.append(i)\n",
    "    return positions"
   ]
  },
  {
   "cell_type": "code",
   "execution_count": 2,
   "metadata": {},
   "outputs": [
    {
     "name": "stdout",
     "output_type": "stream",
     "text": [
      "[1, 3, 9]\n"
     ]
    }
   ],
   "source": [
    "pattern = 'ATAT'\n",
    "genome = 'GATATATGCATATACTT'\n",
    "print(patternPosition(pattern, genome))"
   ]
  },
  {
   "cell_type": "code",
   "execution_count": 3,
   "metadata": {},
   "outputs": [
    {
     "name": "stdout",
     "output_type": "stream",
     "text": [
      "60 67 89 125 196 262 323 330 337 376 439 508 561 596 704 719 757 764 817 844 851 903 924 957 975 1007 1074 1081 1088 1134 1228 1243 1268 1305 1312 1319 1326 1354 1504 1621 1628 1644 1651 1658 1675 1682 1689 1722 1742 1760 1793 1800 1846 1861 1912 1947 1999 2015 2022 2029 2084 2117 2141 2169 2176 2206 2213 2240 2326 2341 2386 2421 2428 2435 2468 2484 2576 2643 2706 2758 2792 2853 2870 2904 2911 2918 2925 2932 2956 2979 3011 3018 3096 3113 3186 3193 3200 3207 3265 3357 3364 3380 3439 3470 3521 3557 3564 3626 3651 3733 3740 3760 3781 3931 3990 4046 4103 4110 4230 4247 4340 4419 4445 4502 4509 4516 4552 4603 4674 4681 4688 4723 4730 4813 4856 4908 4951 4966 5123 5158 5181 5243 5348 5379 5412 5464 5598 5627 5642 5675 5682 5741 5756 5800 5847 5902 5958 5965 5972 5979 5994 6009 6025 6055 6062 6091 6114 6172 6196 6220 6240 6247 6254 6261 6268 6275 6485 6500 6507 6535 6581 6616 6632 6651 6658 6675 6691 6725 6732 6798 6814 6849 6856 6878 6885 6910 6958 7004 7011 7054 7061 7124 7163 7170 7217 7265 7294 7301 7308 7326 7356 7363 7381 7419 7426 7433 7440 7447 7515 7541 7604 7611 7628 7637 7644 7664 7687 7723 7772 7787 7803 7810 7819 7876 7901 7908 7915 7930 8014 8093 8136 8159 8264 8282 8336 8352 8359 8398 8405 8447 8498 8588 8595 8627 8655 8684 8700 8707 8714 8758 8791 8798 8894 8917 9029 9048 9093 9114 9149 9156 9172 9215 9317 9368 9375 9382 9481 9488 9495 9502 9509 9525 9551 9558 9573 9632 9741\n"
     ]
    }
   ],
   "source": [
    "with open(r\"E:\\Download_main\\Downloads\\rosalind_ba1d.txt\", \"r\") as f:\n",
    "    pattern = f.readline().strip()\n",
    "    genome = f.readline().strip()\n",
    "    positions = patternPosition(pattern, genome)\n",
    "    print(\" \".join([str(i) for i in positions]))"
   ]
  }
 ],
 "metadata": {
  "kernelspec": {
   "display_name": "Python 3",
   "language": "python",
   "name": "python3"
  },
  "language_info": {
   "codemirror_mode": {
    "name": "ipython",
    "version": 3
   },
   "file_extension": ".py",
   "mimetype": "text/x-python",
   "name": "python",
   "nbconvert_exporter": "python",
   "pygments_lexer": "ipython3",
   "version": "3.10.0"
  },
  "orig_nbformat": 4
 },
 "nbformat": 4,
 "nbformat_minor": 2
}
