{
 "cells": [
  {
   "cell_type": "markdown",
   "metadata": {},
   "source": [
    "Chapter 1 Problem BA1E : Find Patterns Forming Clumps in a String"
   ]
  },
  {
   "cell_type": "code",
   "execution_count": 28,
   "metadata": {},
   "outputs": [
    {
     "name": "stdout",
     "output_type": "stream",
     "text": [
      "TGTAAAAAAGTT TTCGCTAACTCT\n"
     ]
    }
   ],
   "source": [
    "def clump_finding(genome, k, L, t):\n",
    "    clumps = set()  # Store the distinct k-mers forming (L, t)-clumps\n",
    "    kmer_count = {}  # Store the count of k-mers within the current window\n",
    "\n",
    "    for i in range(len(genome) - k + 1):\n",
    "        window = genome[i:i + L]  # Create a window of length L\n",
    "\n",
    "        # Count the occurrences of k-mers within the window\n",
    "        for j in range(len(window) - k + 1):\n",
    "            kmer = window[j:j + k]\n",
    "            kmer_count[kmer] = kmer_count.get(kmer, 0) + 1\n",
    "\n",
    "        # Check if any k-mer appears at least t times within the window\n",
    "        for kmer, count in kmer_count.items():\n",
    "            if count >= t:\n",
    "                clumps.add(kmer)\n",
    "\n",
    "        # Clear the k-mer count for the next window\n",
    "        kmer_count = {}\n",
    "\n",
    "    return list(clumps)\n",
    "\n",
    "# Example usage:\n",
    "with open(r\"E:\\Download_main\\Downloads\\rosalind_ba1e.txt\") as file:\n",
    "    genome = file.readline().strip()\n",
    "    k = file.readline().strip()\n",
    "    k = int(k)\n",
    "    L = file.readline().strip()\n",
    "    L = int(L)\n",
    "    t = file.readline().strip()\n",
    "    t = int(t)\n",
    "# k = 12 #12 524 19\n",
    "# L = 524\n",
    "# t = 19\n",
    "result = clump_finding(genome, k, L, t)\n",
    "print(\" \".join(result))  # Output: CGACA GAAGA AATGT\n"
   ]
  }
 ],
 "metadata": {
  "kernelspec": {
   "display_name": "Python 3",
   "language": "python",
   "name": "python3"
  },
  "language_info": {
   "codemirror_mode": {
    "name": "ipython",
    "version": 3
   },
   "file_extension": ".py",
   "mimetype": "text/x-python",
   "name": "python",
   "nbconvert_exporter": "python",
   "pygments_lexer": "ipython3",
   "version": "3.10.0"
  },
  "orig_nbformat": 4
 },
 "nbformat": 4,
 "nbformat_minor": 2
}
