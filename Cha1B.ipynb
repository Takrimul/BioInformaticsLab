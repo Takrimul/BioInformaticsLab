{
 "cells": [
  {
   "cell_type": "markdown",
   "metadata": {},
   "source": [
    "## Chapter 1 problem BA1B: \tFind the Most Frequent Words in a String"
   ]
  },
  {
   "cell_type": "code",
   "execution_count": 4,
   "metadata": {},
   "outputs": [],
   "source": [
    "from collections import defaultdict"
   ]
  },
  {
   "cell_type": "code",
   "execution_count": 16,
   "metadata": {},
   "outputs": [],
   "source": [
    "def mostFrequentWords(text, k):\n",
    "    frequentPatterns = []\n",
    "    count = defaultdict(int)\n",
    "    for i in range(len(text) - k + 1):\n",
    "        pattern = text[i:i+k]\n",
    "        count[pattern]+=1\n",
    "    maxCount = max(count.values())\n",
    "    for kmer, count in count.items():\n",
    "        if count == maxCount:\n",
    "            frequentPatterns.append(kmer)\n",
    "    return frequentPatterns\n"
   ]
  },
  {
   "cell_type": "code",
   "execution_count": 19,
   "metadata": {},
   "outputs": [],
   "source": [
    "with open(r'E:\\Download_main\\Downloads\\rosalind_ba1a.txt') as file:\n",
    "    text =  file.read()\n",
    "k = 11"
   ]
  },
  {
   "cell_type": "code",
   "execution_count": 18,
   "metadata": {},
   "outputs": [
    {
     "data": {
      "text/plain": [
       "['AAATT', 'AATTG', 'ATTGT']"
      ]
     },
     "execution_count": 18,
     "metadata": {},
     "output_type": "execute_result"
    }
   ],
   "source": [
    "mostFrequentWords(text, k)\n"
   ]
  }
 ],
 "metadata": {
  "kernelspec": {
   "display_name": "Python 3",
   "language": "python",
   "name": "python3"
  },
  "language_info": {
   "codemirror_mode": {
    "name": "ipython",
    "version": 3
   },
   "file_extension": ".py",
   "mimetype": "text/x-python",
   "name": "python",
   "nbconvert_exporter": "python",
   "pygments_lexer": "ipython3",
   "version": "3.10.0"
  },
  "orig_nbformat": 4
 },
 "nbformat": 4,
 "nbformat_minor": 2
}
