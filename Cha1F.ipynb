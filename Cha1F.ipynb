{
 "cells": [
  {
   "cell_type": "markdown",
   "metadata": {},
   "source": [
    "BA1F :Find a Position in a Genome Minimizing the Skew"
   ]
  },
  {
   "cell_type": "code",
   "execution_count": 3,
   "metadata": {},
   "outputs": [
    {
     "name": "stdout",
     "output_type": "stream",
     "text": [
      "[77186, 77216, 77217]\n"
     ]
    }
   ],
   "source": [
    "def min_skew_positions(genome):\n",
    "    min_skew = float('inf')  # Initialize min_skew to positive infinity\n",
    "    skew = 0                # Initialize skew to 0\n",
    "    min_positions = []       # List to store positions with minimum skew\n",
    "\n",
    "    for i in range(len(genome)):\n",
    "        if genome[i] == 'G':\n",
    "            skew += 1\n",
    "        elif genome[i] == 'C':\n",
    "            skew -= 1\n",
    "\n",
    "        if skew < min_skew:\n",
    "            # Found a new minimum skew\n",
    "            min_skew = skew\n",
    "            min_positions = [i + 1]  # Add 1 because positions start from 1 in biology\n",
    "        elif skew == min_skew:\n",
    "            # Another position with the same minimum skew\n",
    "            min_positions.append(i + 1)\n",
    "\n",
    "    return min_positions\n",
    "\n",
    "# Example usage:\n",
    "with open(r\"E:\\Download_main\\Downloads\\rosalind_ba1f.txt\") as file:\n",
    "    genome = file.read() # Read the genome from the file\n",
    "#genome = \"CCTATCGGTGGATTAGCATGTCCCTGTACGTTTCGCCGCGAACTAGTTCACACGGCTTGATGGCAAATGGTTTTTCCGGCGACCGTAATCGTCCACCGAG\"\n",
    "result = min_skew_positions(genome)\n",
    "print(result)  # Output: [1, 10, 11, 12, 13]\n"
   ]
  },
  {
   "cell_type": "code",
   "execution_count": null,
   "metadata": {},
   "outputs": [],
   "source": []
  }
 ],
 "metadata": {
  "kernelspec": {
   "display_name": "Python 3",
   "language": "python",
   "name": "python3"
  },
  "language_info": {
   "codemirror_mode": {
    "name": "ipython",
    "version": 3
   },
   "file_extension": ".py",
   "mimetype": "text/x-python",
   "name": "python",
   "nbconvert_exporter": "python",
   "pygments_lexer": "ipython3",
   "version": "3.10.0"
  },
  "orig_nbformat": 4
 },
 "nbformat": 4,
 "nbformat_minor": 2
}
