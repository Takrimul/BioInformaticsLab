{
 "cells": [
  {
   "cell_type": "markdown",
   "metadata": {},
   "source": [
    "BA1G : Compute the Hamming Distance Between Two Strings"
   ]
  },
  {
   "cell_type": "code",
   "execution_count": 10,
   "metadata": {},
   "outputs": [
    {
     "name": "stdout",
     "output_type": "stream",
     "text": [
      "907\n"
     ]
    }
   ],
   "source": [
    "def hamming_distance(s1, s2):\n",
    "    # Check if the input strings have the same length\n",
    "    if len(s1) != len(s2):\n",
    "        raise ValueError(\"Input strings must have the same length\")\n",
    "\n",
    "    distance = 0  # Initialize the Hamming distance to 0\n",
    "\n",
    "    # Iterate through the characters of both strings and compare them\n",
    "    for i in range(len(s1)):\n",
    "        if s1[i] != s2[i]:\n",
    "            distance += 1\n",
    "\n",
    "    return distance\n",
    "\n",
    "# Example usage:\n",
    "with open(r\"E:\\Download_main\\Downloads\\rosalind_ba1g.txt\") as file:\n",
    "    string1 = file.readline().strip()\n",
    "    string2 = file.readline().strip()\n",
    "#string1 = \"GGGCCGTTGGT\"\n",
    "#string2 = \"GGACCGTTGAC\"\n",
    "distance = hamming_distance(string1, string2)\n",
    "print(distance)  # Output: 2\n"
   ]
  }
 ],
 "metadata": {
  "kernelspec": {
   "display_name": "Python 3",
   "language": "python",
   "name": "python3"
  },
  "language_info": {
   "codemirror_mode": {
    "name": "ipython",
    "version": 3
   },
   "file_extension": ".py",
   "mimetype": "text/x-python",
   "name": "python",
   "nbconvert_exporter": "python",
   "pygments_lexer": "ipython3",
   "version": "3.10.0"
  },
  "orig_nbformat": 4
 },
 "nbformat": 4,
 "nbformat_minor": 2
}
