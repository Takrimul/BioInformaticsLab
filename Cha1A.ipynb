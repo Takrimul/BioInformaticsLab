{
 "cells": [
  {
   "cell_type": "markdown",
   "metadata": {},
   "source": [
    "# Chapter 1 problem: Compute the Number of Times a Pattern Appears in a Text"
   ]
  },
  {
   "cell_type": "code",
   "execution_count": null,
   "metadata": {},
   "outputs": [],
   "source": [
    "def maxPattern(text, pattern):\n",
    "    lenT = len(text)\n",
    "    lenP = len(pattern)\n",
    "    count = 0\n",
    "    for i in range(lenT-lenP+1):\n",
    "        if text[i:i+lenP] == pattern:\n",
    "            count = count + 1\n",
    "    return count"
   ]
  },
  {
   "cell_type": "code",
   "execution_count": 9,
   "metadata": {},
   "outputs": [
    {
     "name": "stdout",
     "output_type": "stream",
     "text": [
      "31\n"
     ]
    }
   ],
   "source": [
    "# take input from user as a text file\n",
    "with open(r\"E:\\Download_main\\Downloads\\rosalind_ba1a.txt\", 'r') as input_file:\n",
    "    text = input_file.read()\n",
    "pattern = 'AAATTGTAA'\n",
    "result = maxPattern(text, pattern)\n",
    "print(result)\n"
   ]
  }
 ],
 "metadata": {
  "kernelspec": {
   "display_name": "Python 3",
   "language": "python",
   "name": "python3"
  },
  "language_info": {
   "codemirror_mode": {
    "name": "ipython",
    "version": 3
   },
   "file_extension": ".py",
   "mimetype": "text/x-python",
   "name": "python",
   "nbconvert_exporter": "python",
   "pygments_lexer": "ipython3",
   "version": "3.10.0"
  },
  "orig_nbformat": 4
 },
 "nbformat": 4,
 "nbformat_minor": 2
}
